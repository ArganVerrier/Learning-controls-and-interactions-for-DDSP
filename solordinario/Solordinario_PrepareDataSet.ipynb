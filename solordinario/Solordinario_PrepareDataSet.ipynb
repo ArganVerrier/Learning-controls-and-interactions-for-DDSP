{
 "cells": [
  {
   "cell_type": "markdown",
   "metadata": {},
   "source": [
    "# Réarrengement data Solordinario\n",
    "\n",
    "Création d'un dataset à partir de solordinario"
   ]
  },
  {
   "cell_type": "code",
   "execution_count": 1,
   "metadata": {},
   "outputs": [],
   "source": [
    "import numpy as np\n",
    "import glob \n",
    "import os.path\n",
    "import scipy.io.wavfile as wavfile\n",
    "import matplotlib.pyplot as plt"
   ]
  },
  {
   "cell_type": "code",
   "execution_count": 2,
   "metadata": {},
   "outputs": [],
   "source": [
    "path = 'data'\n",
    "\n",
    "def listdirectory(path): \n",
    "    fichier=[] \n",
    "    l = glob.glob(path+'\\\\*') \n",
    "    for i in l: \n",
    "        if os.path.isdir(i): fichier.extend(listdirectory(i)) \n",
    "        else: fichier.append(i) \n",
    "    return fichier\n",
    "\n",
    "files = listdirectory(path)"
   ]
  },
  {
   "cell_type": "code",
   "execution_count": 3,
   "metadata": {},
   "outputs": [],
   "source": [
    "long = 3 #durée à conserver en sec\n",
    "for file in files:\n",
    "    Fe, sig = wavfile.read(file)\n",
    "    new_dir = 'data_2/'+file[5:]\n",
    "    wavfile.write(new_dir, Fe, sig[:long*Fe])"
   ]
  },
  {
   "cell_type": "markdown",
   "metadata": {},
   "source": [
    "# Dictionnaire avec Pitch et Velocite\n",
    "\n",
    "(cellules mise en markdown pour éviter un drame)"
   ]
  },
  {
   "cell_type": "code",
   "execution_count": 4,
   "metadata": {},
   "outputs": [],
   "source": [
    "import descriptors\n",
    "import torch\n",
    "import numpy as np"
   ]
  },
  {
   "cell_type": "markdown",
   "metadata": {},
   "source": [
    "path = 'data_2'\n",
    "files = listdirectory(path)\n",
    "nb_files = len(files)\n",
    "print(nb_files)\n",
    "sample_per_sec = 250\n",
    "\n",
    "dict_env = {'file_name' : [[]]*nb_files, 'env' : [[]]*nb_files, 'vel' : [[]]*nb_files, 'pitch' : [[]]*nb_files, 'corde' : [[]]*nb_files}\n",
    "f = 0\n",
    "\n",
    "for file in files:\n",
    "    name = file[7:]\n",
    "    vel = file[14:16]\n",
    "    corde = file[17:19]\n",
    "    if file[-6]=='#':\n",
    "        pitch = file[-7:-4]\n",
    "    else :\n",
    "        pitch = file[-6:-4]\n",
    "        \n",
    "    Fe, sig = wavfile.read(file)\n",
    "    sig = sig.astype(np.float32)\n",
    "    env = np.zeros([2,long*sample_per_sec])\n",
    "    env[0,:] = descriptors.extract_loudness(sig, sampling_rate=Fe, block_size=int(Fe/250), n_fft=2048)[:long*sample_per_sec]\n",
    "    env[1,:] = descriptors.extract_pitch(sig, sampling_rate=Fe, block_size=int(Fe/250))[:long*sample_per_sec]\n",
    "    \n",
    "    dict_env['file_name'][f] = file\n",
    "    dict_env['env'][f] = env\n",
    "    dict_env['vel'][f] = vel\n",
    "    dict_env['pitch'][f] = pitch\n",
    "    dict_env['corde'][f] = corde\n",
    "    print(f)\n",
    "    f += 1\n",
    "  "
   ]
  },
  {
   "cell_type": "markdown",
   "metadata": {},
   "source": [
    "Save\n",
    "np.save('data_dict.npy', dict_env) \n",
    "\n",
    "Load\n",
    "dict_r = np.load('data_dict.npy').item() "
   ]
  },
  {
   "cell_type": "markdown",
   "metadata": {},
   "source": [
    "# Création dataset pour torch #\n",
    "\n",
    "format : N * envLoudness * envPitch * vel * note\n",
    "- N : nombre de samples\n",
    "- envLoudness : enveloppe d'intensité\n",
    "- envPitch : enveloppe de fondamentale\n",
    "- vel : vélocité (1:3)\n",
    "- note : note midi"
   ]
  },
  {
   "cell_type": "code",
   "execution_count": 5,
   "metadata": {},
   "outputs": [],
   "source": [
    "import midi_numbers\n",
    "\n",
    "def convNote2MIDI(noteOct):\n",
    "    #print(noteOct)\n",
    "    octave=int(noteOct[len(noteOct)-1])\n",
    "    note=noteOct[0:len(noteOct)-1]\n",
    "    midiNote=midi_numbers.note_to_number(note, octave)\n",
    "    return float(midiNote)\n",
    "\n",
    "#convNote2MIDI(pitch[0])\n",
    "\n",
    "def convVel2Nbr(velocity, sym=['pp', 'mf', 'ff']):\n",
    "    return float(sym.index(velocity)+1)\n",
    "    \n",
    "def arrayNote(notes):\n",
    "    midiNotes=np.zeros((len(notes),))\n",
    "    \n",
    "    for ind in range(len(notes)):\n",
    "        midiNotes[ind]=convNote2MIDI(notes[ind])\n",
    "    return midiNotes\n",
    "\n",
    "def arrayVel(velocities):\n",
    "    nbrVel=np.zeros((len(velocities),))\n",
    "    for ind in range(len(velocities)):\n",
    "        nbrVel[ind]=convVel2Nbr(velocities[ind])\n",
    "    return nbrVel\n",
    "\n",
    "    \n"
   ]
  },
  {
   "cell_type": "code",
   "execution_count": 6,
   "metadata": {},
   "outputs": [],
   "source": [
    "import os\n",
    "import descriptors\n",
    "import torch\n",
    "import numpy as np\n",
    "N=279\n",
    "dict_r = np.load('data_dict.npy', allow_pickle=True).item()\n",
    "\n",
    "train_db = torch.zeros(torch.tensor(dict_r['env']).shape)\n",
    "\n",
    "#Loudness envelope (normalized)\n",
    "envLoudness=np.array(dict_r[\"env\"])[:,0,:]\n",
    "envLoudness=envLoudness/np.max(np.abs(envLoudness))\n",
    "#Pitch envelope\n",
    "envPitch=np.array(dict_r[\"env\"])[:,1,:]\n",
    "#filename\n",
    "fileName=np.array(dict_r[\"file_name\"]).reshape(N, 1)\n",
    "#converted velocity and note\n",
    "pitch=arrayNote(dict_r[\"pitch\"]).reshape(N, 1)\n",
    "vel=arrayVel(dict_r[\"vel\"]).reshape(N, 1)\n",
    "\n",
    "corde=np.array(dict_r[\"corde\"]).reshape(N, 1)\n",
    "\n",
    "#format du dataset : [envLoudness, envPitch, velocitv(pp=1, mf=2, ff=3), note (MIDI)]\n",
    "\n",
    "train_dataset=torch.utils.data.TensorDataset(torch.from_numpy(envLoudness), torch.from_numpy(envPitch), torch.from_numpy(vel), torch.from_numpy(pitch))\n",
    "train_loader = torch.utils.data.DataLoader(train_dataset, batch_size=25, shuffle=True)"
   ]
  },
  {
   "cell_type": "code",
   "execution_count": 7,
   "metadata": {},
   "outputs": [],
   "source": [
    "torch.save(train_dataset, \"solordinario_DataSet\")"
   ]
  },
  {
   "cell_type": "code",
   "execution_count": 8,
   "metadata": {},
   "outputs": [
    {
     "name": "stdout",
     "output_type": "stream",
     "text": [
      "velocity = tensor([1.], dtype=torch.float64)\n",
      "\n",
      "midi pitch = tensor([69.], dtype=torch.float64)\n",
      "\n"
     ]
    },
    {
     "data": {
      "image/png": "[encoded data removed]",
      "text/plain": [
       "<Figure size 432x288 with 2 Axes>"
      ]
     },
     "metadata": {
      "needs_background": "light"
     },
     "output_type": "display_data"
    }
   ],
   "source": [
    "dataset=torch.load(\"solordinario_DataSet\")\n",
    "train_loader = torch.utils.data.DataLoader(dataset, batch_size=25, shuffle=True)\n",
    "t1,t2,t3,t4=next(iter(train_loader))\n",
    "print(\"velocity = {}\\n\".format(t3[0]))\n",
    "print(\"midi pitch = {}\\n\".format(t4[0]))\n",
    "fig=plt.figure()\n",
    "ax=fig.add_subplot(121)\n",
    "ax.plot(t1[0])\n",
    "ax.set_ylabel(\"loudness\")\n",
    "ax=fig.add_subplot(122)\n",
    "ax.plot(t2[0])\n",
    "ax.set_ylabel(\"pitch\")\n",
    "fig.set_tight_layout(True)\n"
   ]
  },
  {
   "cell_type": "code",
   "execution_count": null,
   "metadata": {},
   "outputs": [],
   "source": []
  }
 ],
 "metadata": {
  "kernelspec": {
   "display_name": "Python 3",
   "language": "python",
   "name": "python3"
  },
  "language_info": {
   "codemirror_mode": {
    "name": "ipython",
    "version": 3
   },
   "file_extension": ".py",
   "mimetype": "text/x-python",
   "name": "python",
   "nbconvert_exporter": "python",
   "pygments_lexer": "ipython3",
   "version": "3.7.9"
  }
 },
 "nbformat": 4,
 "nbformat_minor": 4
}
